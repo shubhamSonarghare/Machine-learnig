{
  "nbformat": 4,
  "nbformat_minor": 0,
  "metadata": {
    "colab": {
      "name": "CNN_tut.ipynb",
      "version": "0.3.2",
      "provenance": [],
      "collapsed_sections": [],
      "toc_visible": true,
      "include_colab_link": true
    },
    "kernelspec": {
      "name": "python3",
      "display_name": "Python 3"
    },
    "accelerator": "TPU"
  },
  "cells": [
    {
      "cell_type": "markdown",
      "metadata": {
        "id": "view-in-github",
        "colab_type": "text"
      },
      "source": [
        "[View in Colaboratory](https://colab.research.google.com/github/shubhamSonarghare/Machine-learnig/blob/master/Path%20Follower/main.ipynb)"
      ]
    },
    {
      "metadata": {
        "id": "9ljW5guLaW33",
        "colab_type": "code",
        "colab": {
          "base_uri": "https://localhost:8080/",
          "height": 428
        },
        "outputId": "2f471bd7-4c9f-49f0-afaf-c5c242b43430"
      },
      "cell_type": "code",
      "source": [
        "import tensorflow as tf;\n",
        "from tensorflow.examples.tutorials.mnist import input_data;\n",
        "\n",
        "mnist = input_data.read_data_sets(\"MNIST_data/\", one_hot=True)\n",
        "\n",
        "print (mnist.test.images.shape)\n",
        "n_classes = 5\n",
        "batch_size = 5\n",
        "\n",
        "x = tf.placeholder('float', name = \"MyInput\")\n",
        "y = tf.placeholder('float')\n",
        "\n",
        "#keep_rate = 0.8\n",
        "#keep_prob = tf.placeholder(tf.float32)\n",
        "\n",
        "def conv2d(x, W):\n",
        "\treturn tf.nn.conv2d(x, W, strides=[1,1,1,1], padding='SAME')\n",
        "\n",
        "def maxpool2d(x):\n",
        "\treturn tf.nn.max_pool(x, ksize=[1,2,2,1], strides=[1,2,2,1], padding='SAME')\n",
        "\n",
        "\n",
        "def convolutional_neural_network(x):\n",
        "\tweights = {'W_conv1': tf.Variable(tf.random_normal([5,5,3,32])),\n",
        "\t\t\t\t'W_conv2': tf.Variable(tf.random_normal([5,5,32,64])),\n",
        "\t\t\t\t'W_fc': tf.Variable(tf.random_normal([50*100*64, 1024])),\n",
        "\t\t\t\t'out': tf.Variable(tf.random_normal([1024, n_classes]))}\n",
        "\n",
        "\tbiases = {'b_conv1': tf.Variable(tf.random_normal([32])),\n",
        "\t\t\t\t'b_conv2': tf.Variable(tf.random_normal([64])),\n",
        "\t\t\t\t'b_fc': tf.Variable(tf.random_normal([1024])),\n",
        "\t\t\t\t'out': tf.Variable(tf.random_normal([n_classes]))}\n",
        "\n",
        "\tx= tf.reshape(x, shape=[-1, 200, 400,3])\n",
        "\tconv1 = conv2d(x, weights['W_conv1'])\n",
        "\tconv1 = maxpool2d(conv1)\n",
        "\n",
        "\tconv2= conv2d(conv1, weights['W_conv2'])\n",
        "\tconv2 = maxpool2d(conv2)\n",
        "\n",
        "\tfc= tf.reshape(conv2, [-1,50*100*64])\n",
        "\tfc = tf.nn.relu(tf.matmul(fc, weights['W_fc'])+biases['b_fc'])\n",
        "\n",
        "\t#fc = tf.nn.dropout(fc, keep_rate)\n",
        "\n",
        "\toutput = tf.matmul(fc, weights['out'])+biases['out']\n",
        "\t#output = tf.identity(output, name=\"MyOutput\")\n",
        "\treturn output\n",
        "  \n",
        "\n",
        "\n",
        "def train_neural_network(x):\n",
        "\tprediction = convolutional_neural_network(x)\n",
        "\n",
        "\t#y_clipped = tf.clip_by_value(prediction, 1e-10, 0.9999999)\n",
        "\t#cost = tf.reduce_mean(tf.reduce_sum(y*tf.log(y_clipped) + (1-y) * tf.log(1-y_clipped), axis = 1))\n",
        "\tcost = tf.reduce_mean(tf.nn.softmax_cross_entropy_with_logits(logits=prediction, labels=y))\n",
        "\n",
        "\toptimizer = tf.train.AdamOptimizer().minimize(cost)\n",
        "\t#optimizer = tf.train.GradientDescentOptimizer(learning_rate=0.5).minimize(cost)\n",
        "\t# cycles for feed forward and backprop\n",
        "\thm_epoch = 10\n",
        "\n",
        "\twith tf.Session() as sess:\n",
        "\t\tsess.run(tf.global_variables_initializer())\n",
        "\t\ttotal_batch = int(mnist.train.num_examples/batch_size)\n",
        "\t\tfor epoch in range(hm_epoch):\n",
        "\t\t\tepoch_loss = 0\n",
        "\t\t\tfor _ in range(total_batch):\n",
        "\t\t\t\tepoch_x, epoch_y = mnist.train.next_batch(batch_size)\n",
        "\t\t\t\t_, c = sess.run([optimizer , cost], feed_dict = {x: epoch_x , y:epoch_y})\n",
        "\t\t\t\tepoch_loss += c\n",
        "\t\t\tprint ('Epoch ', epoch, 'completed out of ', hm_epoch, 'Loss: ', epoch_loss)\n",
        "\n",
        "\t\tcorrect = tf.equal(tf.argmax(prediction,1), tf.argmax(y,1))\n",
        "\t\taccuracy = tf.reduce_mean(tf.cast(correct,'float'))\n",
        "\t\tprint ('Accuracy:: ', accuracy.eval({x:mnist.test.images , y:mnist.test.labels}) )\n",
        "\n",
        "\n",
        "#train_neural_network(x)"
      ],
      "execution_count": 1,
      "outputs": [
        {
          "output_type": "stream",
          "text": [
            "WARNING:tensorflow:From <ipython-input-1-cf19d88d051e>:4: read_data_sets (from tensorflow.contrib.learn.python.learn.datasets.mnist) is deprecated and will be removed in a future version.\n",
            "Instructions for updating:\n",
            "Please use alternatives such as official/mnist/dataset.py from tensorflow/models.\n",
            "WARNING:tensorflow:From /usr/local/lib/python3.6/dist-packages/tensorflow/contrib/learn/python/learn/datasets/mnist.py:260: maybe_download (from tensorflow.contrib.learn.python.learn.datasets.base) is deprecated and will be removed in a future version.\n",
            "Instructions for updating:\n",
            "Please write your own downloading logic.\n",
            "WARNING:tensorflow:From /usr/local/lib/python3.6/dist-packages/tensorflow/contrib/learn/python/learn/datasets/mnist.py:262: extract_images (from tensorflow.contrib.learn.python.learn.datasets.mnist) is deprecated and will be removed in a future version.\n",
            "Instructions for updating:\n",
            "Please use tf.data to implement this functionality.\n",
            "Extracting MNIST_data/train-images-idx3-ubyte.gz\n",
            "WARNING:tensorflow:From /usr/local/lib/python3.6/dist-packages/tensorflow/contrib/learn/python/learn/datasets/mnist.py:267: extract_labels (from tensorflow.contrib.learn.python.learn.datasets.mnist) is deprecated and will be removed in a future version.\n",
            "Instructions for updating:\n",
            "Please use tf.data to implement this functionality.\n",
            "Extracting MNIST_data/train-labels-idx1-ubyte.gz\n",
            "WARNING:tensorflow:From /usr/local/lib/python3.6/dist-packages/tensorflow/contrib/learn/python/learn/datasets/mnist.py:110: dense_to_one_hot (from tensorflow.contrib.learn.python.learn.datasets.mnist) is deprecated and will be removed in a future version.\n",
            "Instructions for updating:\n",
            "Please use tf.one_hot on tensors.\n",
            "Extracting MNIST_data/t10k-images-idx3-ubyte.gz\n",
            "Extracting MNIST_data/t10k-labels-idx1-ubyte.gz\n",
            "WARNING:tensorflow:From /usr/local/lib/python3.6/dist-packages/tensorflow/contrib/learn/python/learn/datasets/mnist.py:290: DataSet.__init__ (from tensorflow.contrib.learn.python.learn.datasets.mnist) is deprecated and will be removed in a future version.\n",
            "Instructions for updating:\n",
            "Please use alternatives such as official/mnist/dataset.py from tensorflow/models.\n",
            "(10000, 784)\n"
          ],
          "name": "stdout"
        }
      ]
    },
    {
      "metadata": {
        "id": "tIGhF2BvUeFE",
        "colab_type": "code",
        "colab": {
          "base_uri": "https://localhost:8080/",
          "height": 122
        },
        "outputId": "283817f3-9e7b-403e-d52f-1f0d874128e6"
      },
      "cell_type": "code",
      "source": [
        "from google.colab import drive\n",
        "drive.mount('/content/drive')"
      ],
      "execution_count": 2,
      "outputs": [
        {
          "output_type": "stream",
          "text": [
            "Go to this URL in a browser: https://accounts.google.com/o/oauth2/auth?client_id=947318989803-6bn6qk8qdgf4n4g3pfee6491hc0brc4i.apps.googleusercontent.com&redirect_uri=urn%3Aietf%3Awg%3Aoauth%3A2.0%3Aoob&scope=email%20https%3A%2F%2Fwww.googleapis.com%2Fauth%2Fdocs.test%20https%3A%2F%2Fwww.googleapis.com%2Fauth%2Fdrive%20https%3A%2F%2Fwww.googleapis.com%2Fauth%2Fdrive.photos.readonly%20https%3A%2F%2Fwww.googleapis.com%2Fauth%2Fpeopleapi.readonly&response_type=code\n",
            "\n",
            "Enter your authorization code:\n",
            "··········\n",
            "Mounted at /content/drive\n"
          ],
          "name": "stdout"
        }
      ]
    },
    {
      "metadata": {
        "id": "X1Za518cSPz2",
        "colab_type": "code",
        "colab": {}
      },
      "cell_type": "code",
      "source": [
        "import tensorflow as tf\n",
        "import matplotlib\n",
        "from tensorflow.python.saved_model import tag_constants\n",
        "%matplotlib inline\n",
        "import matplotlib.pyplot as plt\n",
        "import numpy as np\n",
        "import os\n",
        "#!mkdir New_model"
      ],
      "execution_count": 0,
      "outputs": []
    },
    {
      "metadata": {
        "id": "9eToQn7mSYCe",
        "colab_type": "code",
        "colab": {}
      },
      "cell_type": "code",
      "source": [
        "class Generate_from_TFRecord():\n",
        "\tdef __init__(self, tfrecord_file):\n",
        "\t\tself.tfrecord = tfrecord_file\n",
        "\n",
        "\tdef extract_image_data(self,batch_size, shuffle):\n",
        "\t\tdef _extract_fn(tfrecord):\n",
        "\t\t\tfeatures={\n",
        "\t\t\t\t'image/height': tf.FixedLenFeature([], tf.int64),\n",
        "\t\t\t\t'image/width': tf.FixedLenFeature([], tf.int64),\n",
        "\t\t\t\t'image/image_raw': tf.FixedLenFeature([], tf.string),\n",
        "\t\t\t\t'image/class/label': tf.FixedLenFeature([], tf.int64),\n",
        "\t\t\t\t'image/class/text': tf.FixedLenFeature([], tf.string)}\n",
        "\n",
        "\t\t\tsample = tf.parse_single_example(tfrecord, features)\n",
        "\n",
        "\t\t\t#image = tf.decode_raw(sample['image/image_raw'],tf.uint8)\n",
        "\t\t\timage = tf.image.decode_jpeg(sample['image/image_raw'])\n",
        "\t\t\theight = tf.cast(sample['image/height'], tf.int32)\n",
        "\t\t\twidth = tf.cast(sample['image/width'], tf.int32)\n",
        "\t\t\timage = tf.reshape(image,[1,height*width*3])\n",
        "\t\t\t#image = tf.reshape(image, [height, width, 3])\n",
        "\t\t\tlabel = tf.cast(sample['image/class/label'], tf.int32)\n",
        "\t\t\tlabel_txt = tf.cast(sample['image/class/text'], tf.string)\n",
        "\t\t\t\n",
        "\t\t\treturn [image, label_txt, label, height, width]\n",
        "\n",
        "\t\ttfrecord_file = self.tfrecord\n",
        "\t\tdataset = tf.data.TFRecordDataset([tfrecord_file])\n",
        "\t\tdataset = dataset.map(_extract_fn)\n",
        "\n",
        "\t\tif batch_size != None:\n",
        "\t\t\tprint(\"Preparing batches.....\")\n",
        "\t\t\tdataset = dataset.batch(batch_size)\n",
        "\t\t#dataset = dataset.repeat(10)\n",
        "\t\tif shuffle == True:\n",
        "\t\t\tprint(\"Shuffling.....\")\n",
        "\t\t\tdataset= dataset.shuffle(buffer_size = len(tfrecord_file))\n",
        "\t\treturn dataset\n",
        "\n",
        "\tdef generate_data(self, batch_size = None, shuffle = False):\n",
        "\t\tprint(\"TFRecord file used: \", self.tfrecord)\n",
        "\t\tdataset = self.extract_image_data(batch_size, shuffle)\n",
        "\t\titerator = dataset.make_one_shot_iterator()\n",
        "\t\tnext_batch = iterator.get_next()\n",
        "\t\treturn next_batch\n",
        "\t\t\n",
        "\n",
        "\tdef get_num_examples(self):\n",
        "\t\tcnt=0\n",
        "\t\timge, text, lab, ht, wdth = self.generate_data()\n",
        "\t\twith tf.Session() as sess:\n",
        "\t\t\tsess.run(tf.initializers.global_variables())\n",
        "\t\t\ttry:\n",
        "\t\t\t\twhile(1):\n",
        "\t\t\t\t\timg_dat, txt, labl, hgth, wth = sess.run([imge, text, lab, ht, wdth])\n",
        "\t\t\t\t\tcnt+=1\n",
        "\t\t\texcept:\n",
        "\t\t\t\tpass\n",
        "\t\treturn cnt\n"
      ],
      "execution_count": 0,
      "outputs": []
    },
    {
      "metadata": {
        "id": "kKHwQ54vVy4j",
        "colab_type": "code",
        "colab": {
          "base_uri": "https://localhost:8080/",
          "height": 51
        },
        "outputId": "a4aaf0a9-8683-45b5-e903-cc765c73adf0"
      },
      "cell_type": "code",
      "source": [
        "dat = Generate_from_TFRecord('drive/My Drive/Dataset/path_foll_compr_reshaped_train.tfrecord')\n",
        "print('NUMS:: ', dat.get_num_examples())"
      ],
      "execution_count": 4,
      "outputs": [
        {
          "output_type": "stream",
          "text": [
            "TFRecord file used:  drive/My Drive/Dataset/path_foll_compr_reshaped_train.tfrecord\n",
            "NUMS::  851\n"
          ],
          "name": "stdout"
        }
      ]
    },
    {
      "metadata": {
        "id": "AHexN2GRS-AG",
        "colab_type": "code",
        "colab": {
          "base_uri": "https://localhost:8080/",
          "height": 751
        },
        "outputId": "7e911db4-55a8-48f8-a4c4-d53ae001d9f4"
      },
      "cell_type": "code",
      "source": [
        "def train_CNN_for_pathFollowing(tfrecordFile,valida_tfrecordFile, batch_size):\n",
        "  train_data = Generate_from_TFRecord(tfrecordFile)\n",
        "  train_nums = train_data.get_num_examples()\n",
        "  \n",
        "  #train_image, _, train_label,_, _ = train_data.generate_data(batch_size= batch_size)\n",
        "  #valid_data = Generate_from_TFRecord(valida_tfrecordFile)\n",
        "  #valid_nums = valid_data.get_num_examples()\n",
        "  #valid_image, _, valid_label,_, _ = valid_data.generate_data()\n",
        "  \n",
        "  print (\"Using \", tfrecordFile, \"for training and \", valida_tfrecordFile,\"for validation\")\n",
        "  \n",
        "  prediction = convolutional_neural_network(x)\n",
        "  prediction = tf.identity(prediction, name=\"myOutput\")\n",
        "\t#y_clipped = tf.clip_by_value(prediction, 1e-10, 0.9999999)\n",
        "\t#cost = tf.reduce_mean(tf.reduce_sum(y*tf.log(y_clipped) + (1-y) * tf.log(1-y_clipped), axis = 1))\n",
        "  cost = tf.reduce_mean(tf.nn.softmax_cross_entropy_with_logits(logits=prediction, labels=y))\n",
        "  optimizer = tf.train.AdamOptimizer().minimize(cost)\n",
        "\t#optimizer = tf.train.GradientDescentOptimizer(learning_rate=0.5).minimize(cost)\n",
        "\t# cycles for feed forward and backprop\n",
        "  hm_epoch = 5\n",
        "  save_path = \"/content/model_final.ckpt\"\n",
        "  #saver = tf.train.Saver()\n",
        "  with tf.Session() as sess:\n",
        "    sess.run(tf.global_variables_initializer())\n",
        "    total_batch = int(train_nums/batch_size)\n",
        "    valid_data = Generate_from_TFRecord(valida_tfrecordFile)\n",
        "    valid_nums = valid_data.get_num_examples()\n",
        "    valid_image, _, valid_label,_, _ = valid_data.generate_data()\n",
        "    \n",
        "    for epoch in range(hm_epoch):\n",
        "      epoch_loss = 0\n",
        "      train_data = Generate_from_TFRecord(tfrecordFile)\n",
        "      train_nums = train_data.get_num_examples()\n",
        "      train_image, _, train_label,_, _ = train_data.generate_data(batch_size= batch_size)\n",
        "      \n",
        "      for _ in range(total_batch):\n",
        "        epoch_x, epoch_y = sess.run([train_image, train_label])\n",
        "        #print(\"Shape:>>>>\", epoch_x.shape)\n",
        "        epoch_y = sess.run(tf.one_hot(epoch_y, depth=5))\n",
        "        _, c = sess.run([optimizer , cost], feed_dict = {x: epoch_x , y:epoch_y})\n",
        "        epoch_loss += c\n",
        "      print ('Epoch ', epoch, 'completed out of ', hm_epoch, 'Loss: ', epoch_loss)\n",
        "    \n",
        "    correct = tf.equal(tf.argmax(prediction,1), tf.argmax(y,1))\n",
        "    accuracy = tf.reduce_mean(tf.cast(correct,'float'))\n",
        "    inputs={\"myInput\": x}\n",
        "    outputs={\"myOutput\": prediction}\n",
        "    valid_x=np.array([])\n",
        "    valid_y=np.array([])\n",
        "    tf.saved_model.simple_save(sess, '/content/New_model/model', inputs, outputs)\n",
        "    cnc=0\n",
        "    try:\n",
        "      while(1):\n",
        "        cnc+=1\n",
        "        Vx, Vy = sess.run([valid_image, valid_label])\n",
        "        #print (Vx)\n",
        "        #print (\"Curr Valid x>>\", valid_x)\n",
        "        #Vx = Vx.flatten()\n",
        "        #plt.figure()\n",
        "        #z = Vx.reshape((200,400,3))\n",
        "        #plt.imshow(Vx.reshape((200,300,3)))\n",
        "        #plt.imshow(z)\n",
        "        #plt.show()\n",
        "        #Vx = Vx.flatten()\n",
        "        #print(\"VX init shape>> \", Vx.shape)\n",
        "        \n",
        "        #print(\">>\",Vx.shape,Vy)\n",
        "        \n",
        "        #Vx = Vx.reshape((1,len(Vx)))\n",
        "        Vy = sess.run(tf.one_hot(Vy, depth=5))\n",
        "        Vy = sess.run(tf.reshape(Vy,[1,len(Vy)]))\n",
        "        #Vy = Vy.reshape((1,len(Vy)))\n",
        "        #print(\">>\",Vx.shape, Vy.shape,valid_x.size==0)\n",
        "        if valid_x.size==0:\n",
        "          #valid_x = np.append(valid_x,Vx)\n",
        "          valid_x = Vx[:]\n",
        "          #print(\"<<<>>>\", valid_x)\n",
        "          #valid_x = sess.run(tf.reshape(valid_x,[1,len(valid_x)]))\n",
        "          valid_y = Vy[:]\n",
        "          #valid_y = sess.run(tf.reshape(valid_y,[1,len(valid_y)]))\n",
        "        else:\n",
        "          #print(\"Stacking....\")\n",
        "          valid_x = np.append(valid_x,Vx,axis=0)\n",
        "          valid_y = np.append(valid_y,Vy, axis=0)\n",
        "          #valid_x = sess.run(tf.stack([valid_x,Vx]))\n",
        "          #valid_y = sess.run(tf.stack([valid_y,Vy]))\n",
        "        #print (type(Vx), type(Vy))\n",
        "        #print (valid_x,\"\\n\",valid_y)\n",
        "        \n",
        "    except:\n",
        "      print (\"Passing....>.\", cnc)\n",
        "      pass\n",
        "    print(valid_x.shape)\n",
        "    print(valid_y.shape)\n",
        "    print ('Accuracy:: ', accuracy.eval({x:valid_x , y:valid_y}) )\n",
        "    #saver.save(sess, save_path)\n",
        "  \n",
        "validation_tf = 'drive/My Drive/Dataset/path_foll_compr_reshaped_validation.tfrecord' \n",
        "training_tf = 'drive/My Drive/Dataset/path_foll_compr_reshaped_train.tfrecord'\n",
        "train_CNN_for_pathFollowing(training_tf, validation_tf, batch_size)"
      ],
      "execution_count": 5,
      "outputs": [
        {
          "output_type": "stream",
          "text": [
            "TFRecord file used:  drive/My Drive/Dataset/path_foll_compr_reshaped_train.tfrecord\n",
            "Using  drive/My Drive/Dataset/path_foll_compr_reshaped_train.tfrecord for training and  drive/My Drive/Dataset/path_foll_compr_reshaped_validation.tfrecord for validation\n",
            "WARNING:tensorflow:From <ipython-input-5-dd168a5c0ea9>:16: softmax_cross_entropy_with_logits (from tensorflow.python.ops.nn_ops) is deprecated and will be removed in a future version.\n",
            "Instructions for updating:\n",
            "\n",
            "Future major versions of TensorFlow will allow gradients to flow\n",
            "into the labels input on backprop by default.\n",
            "\n",
            "See `tf.nn.softmax_cross_entropy_with_logits_v2`.\n",
            "\n",
            "TFRecord file used:  drive/My Drive/Dataset/path_foll_compr_reshaped_validation.tfrecord\n",
            "TFRecord file used:  drive/My Drive/Dataset/path_foll_compr_reshaped_validation.tfrecord\n",
            "TFRecord file used:  drive/My Drive/Dataset/path_foll_compr_reshaped_train.tfrecord\n",
            "TFRecord file used:  drive/My Drive/Dataset/path_foll_compr_reshaped_train.tfrecord\n",
            "Preparing batches.....\n",
            "Epoch  0 completed out of  5 Loss:  19240338252.78125\n",
            "TFRecord file used:  drive/My Drive/Dataset/path_foll_compr_reshaped_train.tfrecord\n",
            "TFRecord file used:  drive/My Drive/Dataset/path_foll_compr_reshaped_train.tfrecord\n",
            "Preparing batches.....\n",
            "Epoch  1 completed out of  5 Loss:  2687325613.421875\n",
            "TFRecord file used:  drive/My Drive/Dataset/path_foll_compr_reshaped_train.tfrecord\n",
            "TFRecord file used:  drive/My Drive/Dataset/path_foll_compr_reshaped_train.tfrecord\n",
            "Preparing batches.....\n",
            "Epoch  2 completed out of  5 Loss:  733227560.5625\n",
            "TFRecord file used:  drive/My Drive/Dataset/path_foll_compr_reshaped_train.tfrecord\n",
            "TFRecord file used:  drive/My Drive/Dataset/path_foll_compr_reshaped_train.tfrecord\n",
            "Preparing batches.....\n",
            "Epoch  3 completed out of  5 Loss:  586287246.3125\n",
            "TFRecord file used:  drive/My Drive/Dataset/path_foll_compr_reshaped_train.tfrecord\n",
            "TFRecord file used:  drive/My Drive/Dataset/path_foll_compr_reshaped_train.tfrecord\n",
            "Preparing batches.....\n",
            "Epoch  4 completed out of  5 Loss:  153145086.5625\n",
            "WARNING:tensorflow:From /usr/local/lib/python3.6/dist-packages/tensorflow/python/saved_model/simple_save.py:85: calling SavedModelBuilder.add_meta_graph_and_variables (from tensorflow.python.saved_model.builder_impl) with legacy_init_op is deprecated and will be removed in a future version.\n",
            "Instructions for updating:\n",
            "Pass your op to the equivalent parameter main_op instead.\n",
            "INFO:tensorflow:Assets added to graph.\n",
            "INFO:tensorflow:No assets to write.\n",
            "INFO:tensorflow:SavedModel written to: /content/New_model/model/saved_model.pb\n",
            "Passing....>. 47\n",
            "(46, 240000)\n",
            "(46, 5)\n",
            "Accuracy::  1.0\n"
          ],
          "name": "stdout"
        }
      ]
    },
    {
      "metadata": {
        "id": "VIivunQfzab1",
        "colab_type": "code",
        "colab": {}
      },
      "cell_type": "code",
      "source": [
        "#!rm -rf New_model/"
      ],
      "execution_count": 0,
      "outputs": []
    },
    {
      "metadata": {
        "id": "VbfQUw8_fyYm",
        "colab_type": "code",
        "colab": {
          "base_uri": "https://localhost:8080/",
          "height": 102
        },
        "outputId": "5a53f675-7522-47e7-b2c2-2b5a5ae909de"
      },
      "cell_type": "code",
      "source": [
        "#data = [[1,2,3],[4,5,6]]\n",
        "data = [[1,2,3]]\n",
        "data_np = np.asarray(data, np.float32)\n",
        "print (\"INIT > \\n\", data_np, \"\\n\", data_np[0])\n",
        "data_tf = tf.convert_to_tensor(data_np, np.float32)\n",
        "data2_tf = tf.convert_to_tensor(data_np[0], np.float32)\n",
        "with tf.Session() as sess:\n",
        "  a = sess.run(data_tf)\n",
        "  b = sess.run(tf.reshape(data2_tf,[1,3]))\n",
        "  z= np.append(a,b,axis=0)\n",
        "  print (z)\n",
        "  #z = np.append(data_tf,data2.tf.reshape)\n",
        "  #print (z)\n",
        "  #print (sess.run(data2_tf))\n",
        "\n",
        "#sess = tf.InteractiveSession()  \n",
        "#print(data_tf.eval())\n",
        "\n",
        "#sess.close()"
      ],
      "execution_count": 7,
      "outputs": [
        {
          "output_type": "stream",
          "text": [
            "INIT > \n",
            " [[1. 2. 3.]] \n",
            " [1. 2. 3.]\n",
            "[[1. 2. 3.]\n",
            " [1. 2. 3.]]\n"
          ],
          "name": "stdout"
        }
      ]
    },
    {
      "metadata": {
        "id": "OFS_pLs5tlAo",
        "colab_type": "text"
      },
      "cell_type": "markdown",
      "source": [
        "# **Restoring from saved model.**"
      ]
    },
    {
      "metadata": {
        "id": "BGCcne0DqBAk",
        "colab_type": "code",
        "colab": {
          "base_uri": "https://localhost:8080/",
          "height": 51
        },
        "outputId": "12e6f18e-6fd6-4e2b-c5c4-56458262d19c"
      },
      "cell_type": "code",
      "source": [
        "validation_tf_vis = 'drive/My Drive/Dataset/path_foll_compr_reshaped_validation.tfrecord'\n",
        "valid_data = Generate_from_TFRecord(validation_tf_vis)\n",
        "valid_image, _, valid_label,_, _ = valid_data.generate_data()\n",
        "cn = 0\n",
        "test_data = np.array([])\n",
        "test_label = np.array([])\n",
        "with tf.Session() as sess:\n",
        "  try:\n",
        "      while(1):\n",
        "        cn+=1\n",
        "        Vx, Vy = sess.run([valid_image, valid_label])\n",
        "        Vy = sess.run(tf.one_hot(Vy, depth=5))\n",
        "        Vy = sess.run(tf.reshape(Vy,[1,len(Vy)]))\n",
        "        if test_data.size==0:\n",
        "          test_data = Vx[:]\n",
        "          test_label = Vy[:]\n",
        "        else:\n",
        "          test_data = np.append(test_data,Vx,axis=0)\n",
        "          test_label = np.append(test_label,Vy, axis=0)\n",
        "  except:\n",
        "    print (\"Passing..\", cn)\n",
        "    pass"
      ],
      "execution_count": 3,
      "outputs": [
        {
          "output_type": "stream",
          "text": [
            "TFRecord file used:  drive/My Drive/Dataset/path_foll_compr_reshaped_validation.tfrecord\n",
            "Passing.. 47\n"
          ],
          "name": "stdout"
        }
      ]
    },
    {
      "metadata": {
        "id": "5Z9V4mHrv679",
        "colab_type": "code",
        "colab": {
          "base_uri": "https://localhost:8080/",
          "height": 68
        },
        "outputId": "cdff2a5b-8e6a-45a3-ac26-37d123b02d75"
      },
      "cell_type": "code",
      "source": [
        "'''\n",
        "tf.reset_default_graph()\n",
        "imported_meta = tf.train.import_meta_graph(\"model_final.ckpt.meta\")\n",
        "#x = tf.placeholder('float')\n",
        "#y = tf.placeholder('float')\n",
        "#prediction = convolutional_neural_network(x) \n",
        "with tf.Session() as sess:\n",
        "  imported_meta.restore(sess,tf.get.latest_checkpoint('./'))\n",
        "  #print(sess.run('valix_x')) \n",
        "  corr = tf.equal(tf.argmax(prediction,1), tf.argmax(y,1))\n",
        "  accu = tf.reduce_mean(tf.cast(correct,'float'))\n",
        "  print ('Accuracy:: ', accu.eval({x:data.test , y:data_label, session=sess}) )\n",
        "  #prediction=tf.argmax(y,1)\n",
        "  #print (prediction.eval(feed_dict={x: test_data, },session=sess))\n",
        "\n",
        "'''\n",
        "'''\n",
        "saver = tf.train.import_meta_graph(\"model_final.ckpt.meta\")\n",
        "graph = tf.get_default_graph()\n",
        "\n",
        "x = graph.get_tensor_by_name('output/BiasAdd:0')\n",
        "print (x.type)\n",
        "'''\n",
        "#tf.saved_model.loader.load(sess, [tag_constants.SERVING],'/content/New_model/model/' )\n",
        "gr=tf.Graph()\n",
        "ip = tf.placeholder('float')\n",
        "prediction = tf.placeholder('float')\n",
        "save_path = '/content/model.ckpt'\n",
        "#with graph.as_default():\n",
        "with tf.Session() as sess:\n",
        "  tf.saved_model.loader.load(sess, [tag_constants.SERVING],'/content/New_model/model/' )\n",
        "  gr =  tf.get_default_graph()\n",
        "  ip = gr.get_tensor_by_name('MyInput:0') \n",
        "  prediction = gr.get_tensor_by_name('myOutput:0')\n",
        "  #print(sess.run(graph.is_feedable('myOutput:0')))\n",
        "  print (sess.run(prediction, feed_dict={ip:test_data[6]}))\n",
        "  #print (sess.run('myOutput:0', feed_dict={'MyInput:0':test_data}))\n"
      ],
      "execution_count": 16,
      "outputs": [
        {
          "output_type": "stream",
          "text": [
            "INFO:tensorflow:Restoring parameters from /content/New_model/model/variables/variables\n",
            "[[-8.3583180e+06 -6.9242992e+07 -5.8009308e+07 -4.0400372e+07\n",
            "   1.4052245e+08]]\n"
          ],
          "name": "stdout"
        }
      ]
    },
    {
      "metadata": {
        "id": "q1b6hEUrVUuZ",
        "colab_type": "code",
        "colab": {
          "base_uri": "https://localhost:8080/",
          "height": 68
        },
        "outputId": "5a033eb6-d955-46ad-d6cf-e1281a4e4028"
      },
      "cell_type": "code",
      "source": [
        "predict = tf.contrib.predictor.from_saved_model('/content/New_model/model/')\n",
        "x = tf.placeholder('float')\n",
        "print (predict({\"myInput\":test_data[6]}))"
      ],
      "execution_count": 5,
      "outputs": [
        {
          "output_type": "stream",
          "text": [
            "INFO:tensorflow:Restoring parameters from /content/New_model/model/variables/variables\n",
            "{'myOutput': array([[-8.3583180e+06, -6.9242992e+07, -5.8009308e+07, -4.0400372e+07,\n",
            "         1.4052245e+08]], dtype=float32)}\n"
          ],
          "name": "stdout"
        }
      ]
    },
    {
      "metadata": {
        "id": "Z8yRuIASjzjM",
        "colab_type": "code",
        "colab": {
          "base_uri": "https://localhost:8080/",
          "height": 34
        },
        "outputId": "1e185621-fee6-4209-c591-fc63af18e38c"
      },
      "cell_type": "code",
      "source": [
        "op = predict({\"myInput\":test_data[43]})\n",
        "print (np.argmax(op['myOutput']))\n",
        "#print(predict({\"myInput\":test_data[6]}))\n",
        "#with tf.Session() as sess:\n",
        "#  print (sess.run(tf.argmax(predict({\"myInput\":test_data[6]}),1) ))"
      ],
      "execution_count": 42,
      "outputs": [
        {
          "output_type": "stream",
          "text": [
            "3\n"
          ],
          "name": "stdout"
        }
      ]
    },
    {
      "metadata": {
        "id": "XHG_oQTrp2aW",
        "colab_type": "code",
        "colab": {
          "base_uri": "https://localhost:8080/",
          "height": 219
        },
        "outputId": "f04a85f4-3b01-4acc-9ba2-928356b798a6"
      },
      "cell_type": "code",
      "source": [
        "#print (test_data[0].shape)\n",
        "\n",
        "imageToUse = test_data[43]\n",
        "plt.figure()\n",
        "plt.imshow(np.reshape(imageToUse,[200,400,3]), interpolation=\"nearest\", cmap=\"gray\", )\n",
        "plt.show()"
      ],
      "execution_count": 43,
      "outputs": [
        {
          "output_type": "display_data",
          "data": {
            "image/png": "[encoded data removed]",
            "text/plain": [
              "<matplotlib.figure.Figure at 0x7fe0f9ba89e8>"
            ]
          },
          "metadata": {
            "tags": []
          }
        }
      ]
    }
  ]
}